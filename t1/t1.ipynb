{
  "cells": [
    {
      "cell_type": "code",
      "execution_count": 1,
      "metadata": {
        "id": "jPC6jSWHXO5U"
      },
      "outputs": [],
      "source": [
        "import numpy as np\n",
        "from numpy import linalg as la\n",
        "import math\n",
        "import time\n",
        "import matplotlib.pyplot as plt"
      ]
    },
    {
      "cell_type": "markdown",
      "metadata": {
        "id": "GyexCNTwK0kw"
      },
      "source": [
        "# Exercício 1)"
      ]
    },
    {
      "cell_type": "code",
      "execution_count": 2,
      "metadata": {
        "id": "-HqSye0nXo4p"
      },
      "outputs": [],
      "source": [
        "def func_1(A):\n",
        "\n",
        "  # Inicializando U como uma copia de A e L como uma matriz identidade\n",
        "  n = A.shape[0]\n",
        "  U = A.copy()\n",
        "  L = np.eye(n)\n",
        "\n",
        "  # Iterando nas colunas\n",
        "  for j in range(n-1):\n",
        "    # Iterando nas linhas abaixo da diagonal principal\n",
        "    for i in range(j+1, n):\n",
        "\n",
        "      # Calcula a entrada em L como o fator de escalonamento\n",
        "      L[i, j] = U[i, j] / U[j, j]\n",
        "\n",
        "      # Eliminando as entradas abaixo da diagonal principal em U\n",
        "      U[i, j:n] = U[i, j:n] - L[i, j] * U[j, j:n]\n",
        "  return L, U"
      ]
    },
    {
      "cell_type": "code",
      "execution_count": 3,
      "metadata": {
        "id": "HVi3DakZYKc1"
      },
      "outputs": [],
      "source": [
        "def func_2(A, p):\n",
        "\n",
        "  # Inicializando U como uma copia de A e L como uma matriz identidade\n",
        "  n = A.shape[0]\n",
        "  U = A.copy()\n",
        "  L = np.eye(n)\n",
        "\n",
        "  # Iterando nas colunas\n",
        "  for j in range(n-1):\n",
        "\n",
        "    # Define v como o mínimo entre o número de linhas da matriz e o\n",
        "    # alcance definido pelo parâmetro arbitrario 'p'\n",
        "    v = min(n, j + p + 1)\n",
        "\n",
        "    # Itera nas linhas abaixo da diagonal principal (limitadas pelo indice v)\n",
        "    for i in range(j+1, v):\n",
        "\n",
        "      # Calcula a entrada em L como o fator de escalonamento\n",
        "      L[i, j] = U[i, j] / U[j, j]\n",
        "\n",
        "      # Eliminando as entradas abaixo da diagonal principal em U\n",
        "      U[i, j:v] = U[i, j:v] - L[i, j] * U[j, j:v]\n",
        "  return L, U"
      ]
    },
    {
      "cell_type": "code",
      "execution_count": 4,
      "metadata": {
        "id": "QK-XsleGYj6E"
      },
      "outputs": [
        {
          "name": "stdout",
          "output_type": "stream",
          "text": [
            "Tempo 1: 6.513768672943115\n",
            "Tempo 2: 0.014839410781860352\n",
            "2.78812821693218e-13\n",
            "2.78812821693218e-13\n"
          ]
        }
      ],
      "source": [
        "# Exemplo\n",
        "\n",
        "# Inicializando a matriz e os dados relativos a ela\n",
        "n = 2000\n",
        "p = 2\n",
        "A = np.zeros((n, n))\n",
        "for i in range(n):\n",
        "  for j in range(max(0, i - p), min(n, i + p + 1)):\n",
        "    A[i, j] = np.random.normal()\n",
        "\n",
        "# Executando a decomposicao LU da funcao 1 e imprimindo seu tempo de duracao\n",
        "start_time = time.time()\n",
        "(L, U) = func_1(A)\n",
        "end_time = time.time()\n",
        "print(\"Tempo 1: {}\".format(end_time - start_time))\n",
        "\n",
        "# Executando a decomposicao LU da funcao 2 e imprimindo seu tempo de duracao\n",
        "start_time = time.time()\n",
        "(L_, U_) = func_2(A, p)\n",
        "end_time = time.time()\n",
        "print(\"Tempo 2: {}\".format(end_time - start_time))\n",
        "\n",
        "# Imprimindo a norma da diferenca entre o produto de LU e A\n",
        "print(la.norm(L @ U - A))\n",
        "print(la.norm(L_ @ U_ - A))"
      ]
    },
    {
      "cell_type": "markdown",
      "metadata": {
        "id": "QaBM7IbEfjv7"
      },
      "source": [
        "Ambas as funções enunciadas representam o método de fatoração $LU$ da matriz $A$ fornecida. Em ambos os casos, $L$ e $U$ são inicializadas como uma matriz identidade de dimensões $n$ e uma cópia de $A$, respectivamente. Ademais, ambos os laços constroem as matrizes $L$ e $U$ ao calcular as posições da matriz $L$ $(L[i, j])$ como o fator de escalonamento, posteriormente utilizado para atualizar os valoers da matriz $U$.\n",
        "\n",
        "No entanto, ambos os métodos apresentam uma diferença relacionada ao processo iterativo da rotina. Nesse contexto, a função 2 não itera nas linhas até o número máximo de linahs da matriz ($n$).\n",
        "\n",
        "Na função 1, a iteração nas linhas realizada no laço e nas coluans da matriz $U$ é limitada superiormente pelo numero de linhas e colunas da matriz $A$ ($n$), gerando um grande número de iterações. Já no caso da função 2, é definida uma variável $v$ que assume o mínimo valor entre $n$ e $j + p + 1$, sendo a iteração anteriormente descrita limitada superiormente pela variável $v$.\n",
        "\n",
        "Este sutil ajuste faz com que a função 2 poupe muitas iterações quando comparada com a função 1, conferindo uma melhora significativa em termos de desempenho, resultado que se confirma ao comparar o tempo de execução das duas funcionalidades (como impresso na célula acima).\n",
        "Todavia, vale destacar que a corretude do método não é sempre garantida, podendo variar para diferentes valores de $p$. No exemplo fornecido contudo, o resultado é sempre correto (como impresso na célula anterior,  $LU - A \\to 0$), uma vez que a matriz $A$ é inicialaizada com base no parâmetro $p$, de modo que as entradas que estão fora do alcance da iteração descrita na função 2 sejam inicializadas como nulas, não gerando complicações para o método.\n",
        "\n",
        "Em síntese, as duas funções fornecem resultados corretos para a decomposição $LU$, no entando a corretude da segunda funcionalidade 2 está associada a configuração da matriz inicial. Apesar disso, a função 2 é uma alternativa interessante em termos de desempenho, uma vez que apresenta uma melhora significativa no tempo de execução ao poupar um grande número de iterações."
      ]
    },
    {
      "cell_type": "markdown",
      "metadata": {
        "id": "s77OYcIToxNi"
      },
      "source": [
        "# Exercício 2)"
      ]
    },
    {
      "cell_type": "code",
      "execution_count": 5,
      "metadata": {
        "id": "J3zF-KRJpjmR"
      },
      "outputs": [],
      "source": [
        "def gauss_jacobi(A, b, x, erro):\n",
        "\n",
        "  # Inicializa D como a matriz diagonal de A\n",
        "  # C e g são inicializadas conforme descrito pelo metodo de Gauss-Jacobi\n",
        "  n = A.shape[0]\n",
        "  D = np.diag(np.diag(A))\n",
        "  C = np.eye(n) - np.matmul(la.inv(D), A)\n",
        "  g = np.matmul(la.inv(D), b)\n",
        "  k_max, k = 10000, 0\n",
        "\n",
        "  # Vetor de erros utilizado para o plot do grafico\n",
        "  erros = []\n",
        "\n",
        "  print(\"Matriz C e vetor G da Gauss-Jacobi:\")\n",
        "  print(C)\n",
        "  print(g)\n",
        "\n",
        "  # Enquanto a solucao nao convergir:\n",
        "  while(la.norm(b - np.matmul(A, x)) > erro):\n",
        "\n",
        "    # Calcula a candidata a solucao como descrito no metodo de incrementa k\n",
        "    x = np.matmul(C, x) + g\n",
        "    k += 1\n",
        "\n",
        "    erros.append(la.norm(b - np.matmul(A, x)))\n",
        "\n",
        "    # Caso o limite de iteracoes seja atingido, interrompe o processo\n",
        "    if(k == k_max):\n",
        "      print(\"Limite de iteracoes excecido. Sem solucao.\")\n",
        "      break;\n",
        "\n",
        "  return x, k, erros"
      ]
    },
    {
      "cell_type": "code",
      "execution_count": 6,
      "metadata": {
        "id": "XK_eP4F3o62k"
      },
      "outputs": [],
      "source": [
        "def gauss_seidel(A, b, x, erro):\n",
        "\n",
        "    # Inicializa L e U como a matriz triangular\n",
        "    # inferior e superior de A, respectivamente\n",
        "    # C e g são inicializadas conforme descrito pelo metodo de Gauss-Seidel\n",
        "    L = np.tril(A)\n",
        "    R = np.triu(A, 1)\n",
        "    C = np.matmul((-1 * la.inv(L)), R)\n",
        "    g = np.matmul(la.inv(L), b)\n",
        "    k_max, k = 10000, 0\n",
        "\n",
        "    # Vetor de erros utilizado para o plot do grafico\n",
        "    erros = []\n",
        "\n",
        "    print(\"Matriz C e vetor G da Gauss-Seidel:\")\n",
        "    print(C)\n",
        "    print(g)\n",
        "\n",
        "    # Enquanto a solucao nao convergir:\n",
        "    while(la.norm(b - np.matmul(A, x)) > erro):\n",
        "\n",
        "        # Calcula a candidata a solucao como descrito no metodo de incrementa k\n",
        "        x = np.matmul(C, x) + g\n",
        "        k += 1\n",
        "\n",
        "        erros.append(la.norm(b - np.matmul(A, x)))\n",
        "\n",
        "        # Caso o limite de iteracoes seja atingido, interrompe o processo\n",
        "        if(k == k_max):\n",
        "            print(\"Limite de iteracoes excecido. Sem solucao.\")\n",
        "            break;\n",
        "\n",
        "    return x, k, erros"
      ]
    },
    {
      "cell_type": "code",
      "execution_count": 7,
      "metadata": {
        "id": "dvlyswO9qnAv"
      },
      "outputs": [
        {
          "name": "stdout",
          "output_type": "stream",
          "text": [
            "Matriz C e vetor G da Gauss-Jacobi:\n",
            "[[ 0.          0.5        -0.25        0.          0.          0.        ]\n",
            " [ 0.28571429  0.          0.28571429 -0.14285714  0.          0.        ]\n",
            " [-0.14285714  0.28571429  0.          0.28571429 -0.14285714  0.        ]\n",
            " [ 0.         -0.14285714  0.28571429  0.          0.28571429 -0.14285714]\n",
            " [ 0.          0.         -0.14285714  0.28571429  0.          0.28571429]\n",
            " [ 0.          0.          0.         -0.25        0.5         0.        ]]\n",
            "[-0.25       -0.28571429  0.14285714  0.14285714 -0.28571429 -0.25      ]\n",
            "Matriz C e vetor G da Gauss-Seidel:\n",
            "[[ 0.          0.5        -0.25        0.          0.          0.        ]\n",
            " [ 0.          0.14285714  0.21428571 -0.14285714  0.          0.        ]\n",
            " [ 0.         -0.03061224  0.09693878  0.24489796 -0.14285714  0.        ]\n",
            " [ 0.         -0.02915452 -0.00291545  0.09037901  0.24489796 -0.14285714]\n",
            " [ 0.         -0.00395668 -0.01468138 -0.00916285  0.09037901  0.24489796]\n",
            " [ 0.          0.00531029 -0.00661183 -0.02717618 -0.01603499  0.15816327]]\n",
            "[-0.25       -0.35714286  0.07653061  0.21574344 -0.23500625 -0.42143898]\n",
            "Gauss-Jacobi converge para [-0.50442478 -0.39823009  0.22123894  0.22123894 -0.39823009 -0.50442478] em 80 iteracoes.\n",
            "Gauss-Seidel converge para [-0.50442478 -0.39823009  0.22123894  0.22123894 -0.39823009 -0.50442478] em 15 iteracoes.\n",
            "Norma da diferença entre os metodos: 2.7509804967524807e-09\n"
          ]
        },
        {
          "data": {
            "image/png": "[encoded data removed]",
            "text/plain": [
              "<Figure size 640x480 with 1 Axes>"
            ]
          },
          "metadata": {},
          "output_type": "display_data"
        },
        {
          "data": {
            "image/png": "[encoded data removed]",
            "text/plain": [
              "<Figure size 640x480 with 1 Axes>"
            ]
          },
          "metadata": {},
          "output_type": "display_data"
        }
      ],
      "source": [
        "# Exemplo\n",
        "\n",
        "# Inicializando os dados do problema conforme enunciados\n",
        "A = np.array([[4, -2, 1, 0, 0, 0],\n",
        "              [-2, 7, -2, 1, 0, 0],\n",
        "              [1, -2, 7, -2, 1, 0],\n",
        "              [0, 1, -2, 7, -2, 1],\n",
        "              [0, 0, 1, -2, 7, -2],\n",
        "              [0, 0, 0, 1, -2, 4]], dtype='float')\n",
        "\n",
        "b = np.array([-1, -2, 1, 1, -2, -1], dtype='float')\n",
        "\n",
        "x0 = np.array([1, 0, 0, 0, 0, 0], dtype='float')\n",
        "\n",
        "# Calculando a solucao utilizando os metodos de Gauss-Jacobi e Gauss-Seidel\n",
        "x_jacobi, k_jacobi, erros_jacobi = gauss_jacobi(A, b, x0, 1e-8)\n",
        "x_seidel, k_seidel, erros_seidel = gauss_seidel(A, b, x0, 1e-8)\n",
        "\n",
        "# Imprimindo as solucoes encontradas\n",
        "print(\"Gauss-Jacobi converge para {} em {} iteracoes.\".format(x_jacobi, k_jacobi))\n",
        "print(\"Gauss-Seidel converge para {} em {} iteracoes.\".format(x_seidel, k_seidel))\n",
        "\n",
        "# Imprimindo a norma da diferenca entre as solucoes\n",
        "print(\"Norma da diferença entre os metodos: {}\".format(la.norm(x_jacobi - x_seidel)))\n",
        "\n",
        "# Plotando os graficos de erro X tempo\n",
        "plt.plot(range(k_jacobi), erros_jacobi, '-o')\n",
        "plt.xlabel('Iterações')\n",
        "plt.ylabel('Erro')\n",
        "plt.title('Erro em função das iterações (Gauss-Jacobi):')\n",
        "plt.show()\n",
        "plt.plot(range(k_seidel), erros_seidel, '-o')\n",
        "plt.xlabel('Iterações')\n",
        "plt.ylabel('Erro')\n",
        "plt.title('Erro em função das iterações (Gauss-Seidel):')\n",
        "plt.show()"
      ]
    },
    {
      "cell_type": "markdown",
      "metadata": {
        "id": "3OWlymxz5h0M"
      },
      "source": [
        "## a)\n",
        "\n",
        "No método de Gauss-Jacobi, sabemos que a matriz $C$ e o vetor $g$ são dados por:\n",
        "\n",
        "$C = I - D^{-1}A$\n",
        "\n",
        "$g = D^{-1}b$\n",
        "\n",
        "Em que $D$ é uma matriz diagonal inicializada com a diagonal principal de $A$ e $I$ é a matriz identidade.\n",
        "\n",
        "Já no método de Gauss-Seidel, os mesmos elementos são calculados como:\n",
        "\n",
        "$C = L^{-1}R$\n",
        "\n",
        "$g = L^{-1}b$\n",
        "\n",
        "Em que $L$ é uma matriz triangular inferior inicializada com as entradas de $A$ e $U$ é uma matriz triangular superior inicializada com as entradas de $A$ (com exceção dos elementos da diagonal principal, que são nulos em $U$).\n",
        "\n",
        "Para realizar tais cálculos, foram utilizadas as seguintes funções da bibliotecaa *numpy*:\n",
        "\n",
        "*   **eye()**: Gera uma matriz identidade;\n",
        "*   **matmul()**: Calcula a multiplicação entre duas matrizes;\n",
        "*  **inv()**: Retorna a inversa de uma\n",
        "\n",
        "Tanto no método *gauss_jacobi()* como *gauss_seidel()* as matrizes são impressas na tela após serem calculadas, o resultado é então visível ao compilar e executar a célula acima.\n"
      ]
    },
    {
      "cell_type": "markdown",
      "metadata": {
        "id": "SmwnQiWNnFk9"
      },
      "source": [
        "## b)\n",
        "\n",
        "Para analisar a convergência dos métodos abordados, pode-se verificar que a matriz $A$ fornecida é **diagonal dominante**. Ou seja:\n",
        "\n",
        "$$\\ \\frac{\\sum_{j \\neq i} |a_{ij}|}{|a_{ii}|} < 1 <=> |a_{ii}| > \\sum_{j \\neq i} |a_{ij}|, \\text{ para todo } i \\neq j$$\n",
        "\n",
        "Analisando a matriz fornecida linha à linha:\n",
        "\n",
        "* $i = 1: |4| > |-2| + |1| => 4 > 3; verdadeiro$\n",
        "* $i = 2: |7| > |-2| + |-2| + |1| => 7 > 5; verdadeiro$\n",
        "* $i = 3: |7| > |-2| + |-2| + |1| + |1| => 7 > 6; verdadeiro$\n",
        "* $i = 4: |7| > |-2| + |-2| + |1| + |1| => 7 > 6; verdadeiro$\n",
        "* $i = 5: |7| > |-2| + |-2| + |1| => 7 > 5; verdadeiro$\n",
        "* $i = 6: |4| > |-2| + |1| => 4 > 3; verdadeiro$\n",
        "\n",
        "Logo, a matriz $A$ é **diagonal dominante** e portanto converge tanto para o método de *Gauss-Jacobi* quanto para o método de *Gauss-Seidel*\n",
        "\n",
        "Analisando os resultados através do código acima, é possível verificar que ambas as funções retornam resultados (vetor $x$) extremamente próximos. De maneira mais específica, a diferença entre os vetores retornados pelas funcionalidades é pouco perceptível e norma da diferença entre os mesmos encontra-se na casa de $10^{-9}$.\n"
      ]
    },
    {
      "cell_type": "markdown",
      "metadata": {
        "id": "9W6yiCzhw7X2"
      },
      "source": [
        "## c)\n",
        "\n",
        "A resolução do sistema, assim como os gráficos solicitados são obtidos através do código desenvolvido nas células acima. Esta resposta portanto limita-se a comentar os resultados obtidos em cada método.\n",
        "\n",
        "Como explicado no item b), ambos os métodos convergem para o resultado dado que $A$ é diagonal dominante, a convergencia analisada se confirma pelo código implementado. Sendo assim, em termos de corretude, ambos os métodos apresentam um resultado satisfatório para o exemplo fornecido, sendo capaz de resolver o sistema com um erro suficientemente confiável.\n",
        "\n",
        "Contudo, em termos de desempenho, é notável que o método de *Gauss-Seidel*, ao convergir para o resultado em apenas 15 iterações, apresenta vantagem em relação ao método de *Gauss-Jacobi*, que converge em 81 iterações. A diferença de desempenho de ambas as funções é esperada, uma vez que ao utilizar os valores atualizados da solução candidata ao longo do processo iterativo, o método de *Gauss-Seidel* tende a ajustar a solução de forma mais precisa a cada iteração, acelerando o processo de convergência.\n",
        "\n",
        "Em conclusão, pode-se inferir que o resultado obtido faz sentido, tendo em vista que ambos os resultados convergem para uma solução aceitáveis (satisfazendo o cálculo do item b). Ademais, a melhora no desempenho esperada por *Gauss-Seidel* ser um método que contempla a otimização de *Gauss-Jacobi* é confirmada pelos testes, dada à discrepância entre o número de iterações e o gráfico de erro em função do tempo.\n",
        "\n"
      ]
    },
    {
      "cell_type": "markdown",
      "metadata": {
        "id": "jS9xyzuHJmla"
      },
      "source": [
        "# Exercício 3)"
      ]
    },
    {
      "cell_type": "code",
      "execution_count": 8,
      "metadata": {
        "id": "l_DRxegmJqx3"
      },
      "outputs": [],
      "source": [
        "# Definicao das funcoes utilizadas para a modelagem do problema\n",
        "\n",
        "def p(x):\n",
        "  return (-1)*pow(x, 4) + 7.7*pow(x, 3) -18*pow(x, 2) +13.6*x\n",
        "\n",
        "def dp(x):\n",
        "  return (-4)*pow(x, 3) + 23.1*pow(x, 2) - 36*x + 13.6\n",
        "\n",
        "def q(x):\n",
        "  return (-1)*pow(x, 2) + 5*x +0.75\n",
        "\n",
        "def dq(x):\n",
        "  return (-2)*x + 5\n",
        "\n",
        "def func(x):\n",
        "  return p(x) - q(x)\n",
        "\n",
        "def dfunc(x):\n",
        "  return dp(x) - dq(x)"
      ]
    },
    {
      "cell_type": "code",
      "execution_count": 9,
      "metadata": {
        "id": "FLkVDpyhTuML"
      },
      "outputs": [],
      "source": [
        "def bisseccao(f, inf, sup, erro, k_max):\n",
        "\n",
        "  k = 0\n",
        "  x = (inf + sup) / 2\n",
        "\n",
        "  # Enquanto a solucao nao convergir e\n",
        "  # o numero maximo de iteracoes nao for atingido\n",
        "  while(abs(f(x)) > erro and k < k_max):\n",
        "\n",
        "    # Calcula o novo intervalo com base no teorema do valor medio\n",
        "    if(f(x) * f(inf) < 0):\n",
        "        sup = x\n",
        "    else:\n",
        "        inf = x\n",
        "\n",
        "    # Atualiza o valor de x e incrementa k\n",
        "    x = (inf + sup) / 2\n",
        "    k += 1\n",
        "\n",
        "  if(k == k_max and abs(f(x)) > erro):\n",
        "    print(\"Metodo nao convergiu. Retornando a solucao mais proxima\")\n",
        "\n",
        "  return x, k"
      ]
    },
    {
      "cell_type": "code",
      "execution_count": 10,
      "metadata": {
        "id": "4Eir-4W7Vz3o"
      },
      "outputs": [],
      "source": [
        "def newton(funcoes, x0, erro_tol):\n",
        "\n",
        "    x = x0\n",
        "    erro = np.inf\n",
        "    k_max, k = 1000, 0\n",
        "\n",
        "    # Enquanto a solucao nao convergir e\n",
        "    # o numero maximo de iteracoes nao for atingido\n",
        "    while(erro > erro_tol and k < k_max):\n",
        "        k += 1\n",
        "\n",
        "        # Atualiza os valores de x (e o erro) analisados com base no decremento\n",
        "        # dado pela razao entre a funcao e sua derivada no ponto x\n",
        "        x0 = x\n",
        "        dx = funcoes[0](x)/funcoes[1](x)\n",
        "        x = x - dx\n",
        "        erro = abs(x-x0)\n",
        "\n",
        "    return x, k"
      ]
    },
    {
      "cell_type": "code",
      "execution_count": 11,
      "metadata": {
        "id": "hI2vhLgqUBI5"
      },
      "outputs": [
        {
          "name": "stdout",
          "output_type": "stream",
          "text": [
            "Metodo da bisseccao com chute inicial em [3, 3.2]\n",
            "Metodo nao convergiu. Retornando a solucao mais proxima\n",
            "H = 6.542846429347982 em 5 iteracoes\n",
            "Metodo da bisseccao com chute inicial em [3.17, 3.19]\n",
            "H = 6.54675177875518 em 5 iteracoes\n",
            "Metodo de Newton com chute inicial x0 = 3.2\n",
            "H = 6.5471824949630175 em 2 iteracoes\n"
          ]
        }
      ],
      "source": [
        "print(\"Metodo da bisseccao com chute inicial em [3, 3.2]\")\n",
        "x_bis, k_bis = bisseccao(func, 3, 3.2, 1e-3, 5)\n",
        "print(\"H = {} em {} iteracoes\".format(p(x_bis), k_bis))\n",
        "\n",
        "print(\"Metodo da bisseccao com chute inicial em [3.17, 3.19]\")\n",
        "x_bis, k_bis = bisseccao(func, 3.17, 3.19, 1e-3, 5)\n",
        "print(\"H = {} em {} iteracoes\".format(p(x_bis), k_bis))\n",
        "\n",
        "print(\"Metodo de Newton com chute inicial x0 = 3.2\")\n",
        "x_new, k_new = newton([func, dfunc], 3.2, 1e-3)\n",
        "print(\"H = {} em {} iteracoes\".format(p(x_new), k_new))\n"
      ]
    },
    {
      "cell_type": "markdown",
      "metadata": {
        "id": "UcN5_E0V8XR9"
      },
      "source": [
        "## a)\n",
        "\n",
        "Implementação da resolução nas células de código acima."
      ]
    },
    {
      "cell_type": "markdown",
      "metadata": {
        "id": "lUBGV_ia8qPf"
      },
      "source": [
        "## b)\n",
        "\n",
        "Implementação da resolução nas células de código acima."
      ]
    },
    {
      "cell_type": "markdown",
      "metadata": {
        "id": "cuUr3UIh8thf"
      },
      "source": [
        "### Método da Bissecção:\n",
        "\n",
        "O método da *bissecção* se baseia na busca por raízes através do teorema do valor intermediário, cujo qual define que: Dada uma função contínua em um intervalo [a, b], existe ao menos uma raíz contida neste intervalo.\n",
        "\n",
        "Na implementação acima, é realizada uma iteração até que o limite máximo de iterações seja atingido ou até que o método convirja para uma solução aceitável. No processo iterativo, a variável **x** é atualizada como o ponto médio do intervalo **[a, b]**, na sequência, um dos extremos do intervalo é atualizado com o valor de **x**, de modo que a propriedade do teorema do valor médio seja preservada, finalmente incrementa-se **k**.\n",
        "\n",
        "### Método de Newton:\n",
        "\n",
        "O método de *Newton*, por sua vez, se baseia na ideia de aproximar a raíz da função através da intersecção da reta tangente à função analisada. A cada iteração a reta tangente é atualizada com base na derivada da função à ser aproximada.\n",
        "Em termos de restrição, basta que a função seja diferenciável no intervalo de iteração ao qual ela é submetida. Como funções polinomiais são de classe $C(n)$, o método de *Newton* pode ser aplicado.\n",
        "\n",
        "A implementação acima utiliza o método de *Newton* com critério de parada relativo ao **erro absoluto**, nela realiza-se uma iteração até que o limite máximo de iterações seja atingido ou até que o método convirja para uma solução satisfatória. Neste processo iterativo, o valor de **x** é atualizado e o decremento é calculado como a razão entre a função e sua derivada no ponto **x**, na sequência, decrementa-se **x** com o valor anteriormente calculado e **k** é incrementada.\n",
        "\n",
        "### Resultados:\n",
        "\n",
        "Em termos de resultado, ambos os métodos apresentam resultados relativamente próximos, cerca de $6.54 u.a.$ para a altura da intersecção. Contudo, dada as expecificações fornecidas, somente o método de Newton convergiu em um tempo satisfatório.\n",
        "\n",
        "No caso do método da *bissecção*, a melhor estimativa possível (de acordo com o gráfico fornecido) é $[3, 3.2]$ para o chute inicial, o que nos fornece $x0 = 3.1$ e um erro inicial de aproximadamente $0.4214$.\n",
        "\n",
        "Realizando as iterações temos:\n",
        "* $k = 1: x = 3.10000, Erro = 0.42139999999998956 > 10^{-3} $\n",
        "* $k = 2: x = 3.15000, Erro = 0.12826874999997350 > 10^{-3} $\n",
        "* $k = 3: x = 3.17500, Erro = 0.01145429687505306 > 10^{-3} $\n",
        "* $k = 4: x = 3.16250, Erro = 0.05778928222658131 > 10^{-3} $\n",
        "* $k = 5: x = 3.16875, Erro = 0.02300937652588253 > 10^{-3} $\n",
        "\n",
        "Logo, percebe-se que o resultado atingido pelo método da *bissecção* não é satisfatório dadas as condições enunciadas.\n",
        "\n",
        "Foram realizados testes empíricos para encontrar um chute inicial que levasse o método da *bissecção* ao resultado ideal. O intervalo encontrado foi $[3.17, 3.19]$ (como mostrado na célula de código), que leva à uma convergência em 5 iterações.\n",
        "\n",
        "Já para o método de *Newton* constatou-se uma convergência bastante acelerada, sendo a aproximação da raiz encontrada em apenas 2 iterações. Foi utilizada a melhor aproximação possível para o chute inicial (dado o gráfico) $x0 = 3.2$, que foi suficiente para a convergência do método."
      ]
    }
  ],
  "metadata": {
    "colab": {
      "provenance": []
    },
    "kernelspec": {
      "display_name": "Python 3",
      "name": "python3"
    },
    "language_info": {
      "codemirror_mode": {
        "name": "ipython",
        "version": 3
      },
      "file_extension": ".py",
      "mimetype": "text/x-python",
      "name": "python",
      "nbconvert_exporter": "python",
      "pygments_lexer": "ipython3",
      "version": "3.10.12"
    }
  },
  "nbformat": 4,
  "nbformat_minor": 0
}
